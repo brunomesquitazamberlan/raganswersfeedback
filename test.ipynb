{
 "cells": [
  {
   "cell_type": "code",
   "execution_count": null,
   "metadata": {},
   "outputs": [],
   "source": [
    "from supabase import create_client\n",
    "\n",
    "\n",
    "SUPABASE_URL = st.secrets[\"supabaseurl\"]  \n",
    "SUPABASE_KEY = st.secrets[\"supabasekey\"]\n",
    "supabase = create_client(SUPABASE_URL, SUPABASE_KEY)\n",
    "\n",
    "def upsert_record(tabela: str, id: int, register: dict) -> bool:\n",
    "    \n",
    "        register_adjusted = {\"id\": id} | register\n",
    "\n",
    "        try:\n",
    "            supabase.table(tabela).upsert(register_adjusted).execute()\n",
    "            return True\n",
    "        except:\n",
    "            return False\n",
    "\n",
    "def get_records_by_field(tabela: str, field_name: str, field_value):\n",
    "    \n",
    "        try:\n",
    "            response = supabase.table(tabela).select(\"*\").eq(f\"{field_name}\", field_value).execute()\n",
    "            \n",
    "            return response.data\n",
    "        \n",
    "        except:\n",
    "            return []"
   ]
  }
 ],
 "metadata": {
  "kernelspec": {
   "display_name": "automacao-youtube-2oExNmHX-py3.11",
   "language": "python",
   "name": "python3"
  },
  "language_info": {
   "name": "python",
   "version": "3.11.3"
  }
 },
 "nbformat": 4,
 "nbformat_minor": 2
}
